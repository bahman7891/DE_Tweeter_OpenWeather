{
 "cells": [
  {
   "cell_type": "markdown",
   "metadata": {},
   "source": [
    "# Project Overview\n",
    "\n",
    "** Bahman Roostaei **"
   ]
  },
  {
   "cell_type": "markdown",
   "metadata": {},
   "source": [
    "## This is a proof of concept notebook lab of the project. The deliverable is plotted at the end."
   ]
  },
  {
   "cell_type": "markdown",
   "metadata": {
    "deletable": true,
    "editable": true
   },
   "source": [
    "The analysis is going to be focused on specific region, here defined by the name of the city and the country.\n",
    "On each region, the sentiment of the collection of tweets is determined for every weather attributes. "
   ]
  },
  {
   "cell_type": "code",
   "execution_count": 9,
   "metadata": {
    "collapsed": false,
    "deletable": true,
    "editable": true
   },
   "outputs": [],
   "source": [
    "reset -fs"
   ]
  },
  {
   "cell_type": "code",
   "execution_count": 69,
   "metadata": {
    "collapsed": false,
    "deletable": true,
    "editable": true
   },
   "outputs": [
    {
     "data": {
      "text/plain": [
       "<pyspark.context.SparkContext at 0x7f9a95d61950>"
      ]
     },
     "execution_count": 69,
     "metadata": {},
     "output_type": "execute_result"
    }
   ],
   "source": [
    "sc"
   ]
  },
  {
   "cell_type": "code",
   "execution_count": 76,
   "metadata": {
    "collapsed": false,
    "deletable": true,
    "editable": true
   },
   "outputs": [
    {
     "name": "stdout",
     "output_type": "stream",
     "text": [
      "Populating the interactive namespace from numpy and matplotlib\n"
     ]
    },
    {
     "name": "stderr",
     "output_type": "stream",
     "text": [
      "/usr/local/lib/python2.7/site-packages/IPython/core/magics/pylab.py:161: UserWarning: pylab import has clobbered these variables: ['plt', 'text']\n",
      "`%matplotlib` prevents importing * from pylab and numpy\n",
      "  \"\\n`%matplotlib` prevents importing * from pylab and numpy\"\n"
     ]
    }
   ],
   "source": [
    "from pyspark.sql.functions import explode,UserDefinedFunction\n",
    "from pyspark.sql.functions import col\n",
    "from pyspark.sql import Row\n",
    "import json\n",
    "%pylab inline"
   ]
  },
  {
   "cell_type": "code",
   "execution_count": 12,
   "metadata": {
    "collapsed": true,
    "deletable": true,
    "editable": true
   },
   "outputs": [],
   "source": [
    "import matplotlib.pylab as plt"
   ]
  },
  {
   "cell_type": "code",
   "execution_count": 13,
   "metadata": {
    "collapsed": true,
    "deletable": true,
    "editable": true
   },
   "outputs": [],
   "source": [
    "from pyspark.sql.types import FloatType, StringType"
   ]
  },
  {
   "cell_type": "code",
   "execution_count": 6,
   "metadata": {
    "collapsed": true,
    "deletable": true,
    "editable": true
   },
   "outputs": [],
   "source": [
    "#raw_tweets = spark.read.json('s3a://climatesentimenttweet/2017/*/*/*/*')"
   ]
  },
  {
   "cell_type": "code",
   "execution_count": 7,
   "metadata": {
    "collapsed": true,
    "deletable": true,
    "editable": true
   },
   "outputs": [],
   "source": [
    "#raw_tweets = spark.read.json('s3a://climatesentimenttweet/2017/03/05/22/twitter_delivery_2-4-2017-03-05-22-29-24-f4ab7b00-d876-4fde-886d-d92da65b236d')"
   ]
  },
  {
   "cell_type": "code",
   "execution_count": 14,
   "metadata": {
    "collapsed": false,
    "deletable": true,
    "editable": true
   },
   "outputs": [],
   "source": [
    "raw_tweets = spark.read.json('s3a://climatesentimenttweet/2017/03/05/*/*')"
   ]
  },
  {
   "cell_type": "code",
   "execution_count": null,
   "metadata": {
    "collapsed": true,
    "deletable": true,
    "editable": true
   },
   "outputs": [],
   "source": [
    "#raw_t = sqlContext.read.json('s3a://climatesentimenttweet/2017/03/05/22/twitter_delivery_2-4-2017-03-05-22-29-24-f4ab7b00-d876-4fde-886d-d92da65b236d')"
   ]
  },
  {
   "cell_type": "code",
   "execution_count": 15,
   "metadata": {
    "collapsed": true,
    "deletable": true,
    "editable": true
   },
   "outputs": [],
   "source": [
    "raw_weather = spark.read.json('s3a://climatesentimentdata/2017/*/*/*/*')"
   ]
  },
  {
   "cell_type": "code",
   "execution_count": 16,
   "metadata": {
    "collapsed": true,
    "deletable": true,
    "editable": true
   },
   "outputs": [],
   "source": [
    "raw_tweets.cache();"
   ]
  },
  {
   "cell_type": "code",
   "execution_count": null,
   "metadata": {
    "collapsed": true,
    "deletable": true,
    "editable": true
   },
   "outputs": [],
   "source": [
    "#raw_tweets.printSchema()"
   ]
  },
  {
   "cell_type": "code",
   "execution_count": 17,
   "metadata": {
    "collapsed": true,
    "deletable": true,
    "editable": true
   },
   "outputs": [],
   "source": [
    "raw_tweets_filtered = raw_tweets.filter('id is not null')"
   ]
  },
  {
   "cell_type": "code",
   "execution_count": 18,
   "metadata": {
    "collapsed": true,
    "deletable": true,
    "editable": true
   },
   "outputs": [],
   "source": [
    "user_df = raw_tweets_filtered.selectExpr('user.id AS user_id','place.country_code AS tweet_country','place.name AS tweet_city').distinct()"
   ]
  },
  {
   "cell_type": "code",
   "execution_count": 19,
   "metadata": {
    "collapsed": true,
    "deletable": true,
    "editable": true
   },
   "outputs": [],
   "source": [
    "user_df_clean = user_df.filter('tweet_country is not null and tweet_city is not null')"
   ]
  },
  {
   "cell_type": "code",
   "execution_count": 68,
   "metadata": {
    "collapsed": false,
    "deletable": true,
    "editable": true
   },
   "outputs": [
    {
     "name": "stdout",
     "output_type": "stream",
     "text": [
      "+----------+-------------+-----------+\n",
      "|   user_id|tweet_country| tweet_city|\n",
      "+----------+-------------+-----------+\n",
      "|2714840130|           TR|     Gemlik|\n",
      "|1636589420|           TR|   İstanbul|\n",
      "| 172657411|           US|    Memphis|\n",
      "|3168232172|           JP|     大阪市 西区|\n",
      "| 197253764|           MX|Guadalajara|\n",
      "|2847638726|           JP|    福岡市 早良区|\n",
      "|1708811346|           FR|      Rodez|\n",
      "|2946631609|           TH|    สระบุรี|\n",
      "| 111852969|           JP|        青森市|\n",
      "|3351097209|           US|    Chicago|\n",
      "+----------+-------------+-----------+\n",
      "only showing top 10 rows\n",
      "\n"
     ]
    }
   ],
   "source": [
    "user_df_clean.show(10)"
   ]
  },
  {
   "cell_type": "code",
   "execution_count": null,
   "metadata": {
    "collapsed": true,
    "deletable": true,
    "editable": true
   },
   "outputs": [],
   "source": [
    "#user_df.write.parquet('s3a://climsentdata/climsentuser')"
   ]
  },
  {
   "cell_type": "code",
   "execution_count": 20,
   "metadata": {
    "collapsed": true,
    "deletable": true,
    "editable": true
   },
   "outputs": [],
   "source": [
    "tweet_df = raw_tweets_filtered.selectExpr('id AS tweet_id', 'user.id AS user_id', 'text',\n",
    "                                         'lang AS language')"
   ]
  },
  {
   "cell_type": "code",
   "execution_count": 21,
   "metadata": {
    "collapsed": false,
    "deletable": true,
    "editable": true
   },
   "outputs": [
    {
     "name": "stdout",
     "output_type": "stream",
     "text": [
      "+------------------+------------------+--------------------+--------+\n",
      "|          tweet_id|           user_id|                text|language|\n",
      "+------------------+------------------+--------------------+--------+\n",
      "|838457865836904450|         412754740|RT @NFL: MYLES GA...|      en|\n",
      "|838457865811689473|778382134725713920|I liked a @YouTub...|      en|\n",
      "|838457865824239616|821397213775622146|Scalextric SCX Re...|      ht|\n",
      "|838457865828347904|         817657400|Hahahahahahahahah...|      tl|\n",
      "|838457865828388864|        3513938114|You forget your v...|      en|\n",
      "|838457865820069888|         449344082|RT @marianaccmelo...|      pt|\n",
      "|838457865811677185|        1848850261|RT @hellmaker77: ...|      el|\n",
      "|838457865815932929|794984386567487488|@ourjenners_ obri...|      pt|\n",
      "|838457865803280385|        2935389119|RT @valdir_furtad...|      pt|\n",
      "|838457865803337728|         340831240|RT @MzLee_: 😍😍 ...|     und|\n",
      "+------------------+------------------+--------------------+--------+\n",
      "only showing top 10 rows\n",
      "\n"
     ]
    }
   ],
   "source": [
    "tweet_df.show(10)"
   ]
  },
  {
   "cell_type": "code",
   "execution_count": null,
   "metadata": {
    "collapsed": true,
    "deletable": true,
    "editable": true
   },
   "outputs": [],
   "source": [
    "#tweet_df.write.parquet('s3a://climsentdata/climsenttweet')"
   ]
  },
  {
   "cell_type": "code",
   "execution_count": null,
   "metadata": {
    "collapsed": true,
    "deletable": true,
    "editable": true
   },
   "outputs": [],
   "source": [
    "#raw_weather.printSchema()"
   ]
  },
  {
   "cell_type": "code",
   "execution_count": 22,
   "metadata": {
    "collapsed": true,
    "deletable": true,
    "editable": true
   },
   "outputs": [],
   "source": [
    "weather_data = raw_weather.select(explode(raw_weather.list)).selectExpr(\"col.*\")"
   ]
  },
  {
   "cell_type": "code",
   "execution_count": null,
   "metadata": {
    "collapsed": true,
    "deletable": true,
    "editable": true
   },
   "outputs": [],
   "source": [
    "#weather_data.registerTempTable('weather')"
   ]
  },
  {
   "cell_type": "code",
   "execution_count": 23,
   "metadata": {
    "collapsed": true,
    "deletable": true,
    "editable": true
   },
   "outputs": [],
   "source": [
    "w_df = weather_data.selectExpr('name AS user_city','sys.country AS user_country','weather.description[0] AS condition',\n",
    "                              'weather.main[0] AS parameter','main.temp AS temperature','main.pressure AS pressure',\n",
    "                              'main.humidity AS humidity',\n",
    "                              'wind.speed AS wind_speed',\n",
    "                              'clouds.all AS cloudiness')"
   ]
  },
  {
   "cell_type": "code",
   "execution_count": 24,
   "metadata": {
    "collapsed": false,
    "deletable": true,
    "editable": true
   },
   "outputs": [
    {
     "name": "stdout",
     "output_type": "stream",
     "text": [
      "+-------------+------------+---------------+---------+-----------+--------+--------+----------+----------+\n",
      "|    user_city|user_country|      condition|parameter|temperature|pressure|humidity|wind_speed|cloudiness|\n",
      "+-------------+------------+---------------+---------+-----------+--------+--------+----------+----------+\n",
      "|San Francisco|          US|     few clouds|   Clouds|       8.69|    1015|      66|       4.6|        20|\n",
      "|  Kansas City|          US|   sky is clear|    Clear|      13.65|    1008|      67|       5.7|         1|\n",
      "|     New York|          US|   sky is clear|    Clear|       1.71|    1027|      80|      0.97|         1|\n",
      "|       Lisbon|          PT|overcast clouds|   Clouds|       8.11|     990|      96|      10.3|        90|\n",
      "|        Paris|          FR|  broken clouds|   Clouds|        4.6|     994|      75|       6.7|        75|\n",
      "|       Berlin|          DE|   Sky is Clear|    Clear|       10.0|     992|      66|       6.2|         0|\n",
      "|       Prague|          CZ|   Sky is Clear|    Clear|        5.0|     996|      86|       1.5|         0|\n",
      "|     Istanbul|          TR|            fog|      Fog|       3.88|    1017|     100|       1.0|        90|\n",
      "|       Tehran|          IR|   Sky is Clear|    Clear|       5.19|    1021|      33|       2.1|         0|\n",
      "|San Francisco|          US|     few clouds|   Clouds|       8.69|    1015|      66|       4.6|        20|\n",
      "+-------------+------------+---------------+---------+-----------+--------+--------+----------+----------+\n",
      "only showing top 10 rows\n",
      "\n"
     ]
    }
   ],
   "source": [
    "w_df.show(10)"
   ]
  },
  {
   "cell_type": "code",
   "execution_count": null,
   "metadata": {
    "collapsed": true,
    "deletable": true,
    "editable": true
   },
   "outputs": [],
   "source": [
    "#udf = UserDefinedFunction(time_range,FloatType())"
   ]
  },
  {
   "cell_type": "code",
   "execution_count": null,
   "metadata": {
    "collapsed": true,
    "deletable": true,
    "editable": true
   },
   "outputs": [],
   "source": [
    "#new_w_df = w_df.withColumn('time', udf(w_df.time))"
   ]
  },
  {
   "cell_type": "code",
   "execution_count": 25,
   "metadata": {
    "collapsed": true,
    "deletable": true,
    "editable": true
   },
   "outputs": [],
   "source": [
    "new_w_df = w_df"
   ]
  },
  {
   "cell_type": "code",
   "execution_count": null,
   "metadata": {
    "collapsed": true,
    "deletable": true,
    "editable": true
   },
   "outputs": [],
   "source": [
    "#new_w_df.registerTempTable('weather')"
   ]
  },
  {
   "cell_type": "code",
   "execution_count": null,
   "metadata": {
    "collapsed": true,
    "deletable": true,
    "editable": true
   },
   "outputs": [],
   "source": [
    "#w_time_data = spark.sql(sqlQuery='SELECT time FROM weather')"
   ]
  },
  {
   "cell_type": "code",
   "execution_count": null,
   "metadata": {
    "collapsed": true,
    "deletable": true,
    "editable": true
   },
   "outputs": [],
   "source": [
    "#times = w_time_data.collect()"
   ]
  },
  {
   "cell_type": "code",
   "execution_count": null,
   "metadata": {
    "collapsed": true,
    "deletable": true,
    "editable": true
   },
   "outputs": [],
   "source": [
    "#udf_tweet = UserDefinedFunction(time_range_tweet,FloatType())"
   ]
  },
  {
   "cell_type": "code",
   "execution_count": null,
   "metadata": {
    "collapsed": true,
    "deletable": true,
    "editable": true
   },
   "outputs": [],
   "source": [
    "#new_tweet_df = tweet_df.withColumn('tweet_time', udf_tweet(tweet_df.tweet_time))"
   ]
  },
  {
   "cell_type": "code",
   "execution_count": 26,
   "metadata": {
    "collapsed": true,
    "deletable": true,
    "editable": true
   },
   "outputs": [],
   "source": [
    "new_tweet_df = tweet_df"
   ]
  },
  {
   "cell_type": "code",
   "execution_count": 27,
   "metadata": {
    "collapsed": false,
    "deletable": true,
    "editable": true
   },
   "outputs": [
    {
     "name": "stdout",
     "output_type": "stream",
     "text": [
      "+------------------+------------------+--------------------+--------+\n",
      "|          tweet_id|           user_id|                text|language|\n",
      "+------------------+------------------+--------------------+--------+\n",
      "|838457865836904450|         412754740|RT @NFL: MYLES GA...|      en|\n",
      "|838457865811689473|778382134725713920|I liked a @YouTub...|      en|\n",
      "|838457865824239616|821397213775622146|Scalextric SCX Re...|      ht|\n",
      "|838457865828347904|         817657400|Hahahahahahahahah...|      tl|\n",
      "|838457865828388864|        3513938114|You forget your v...|      en|\n",
      "|838457865820069888|         449344082|RT @marianaccmelo...|      pt|\n",
      "|838457865811677185|        1848850261|RT @hellmaker77: ...|      el|\n",
      "|838457865815932929|794984386567487488|@ourjenners_ obri...|      pt|\n",
      "|838457865803280385|        2935389119|RT @valdir_furtad...|      pt|\n",
      "|838457865803337728|         340831240|RT @MzLee_: 😍😍 ...|     und|\n",
      "+------------------+------------------+--------------------+--------+\n",
      "only showing top 10 rows\n",
      "\n"
     ]
    }
   ],
   "source": [
    "new_tweet_df.show(10)"
   ]
  },
  {
   "cell_type": "code",
   "execution_count": 28,
   "metadata": {
    "collapsed": true,
    "deletable": true,
    "editable": true
   },
   "outputs": [],
   "source": [
    "new_tweet_df.registerTempTable('tweets')"
   ]
  },
  {
   "cell_type": "code",
   "execution_count": 29,
   "metadata": {
    "collapsed": true,
    "deletable": true,
    "editable": true
   },
   "outputs": [],
   "source": [
    "en_tweets_df = spark.sql(sqlQuery='SELECT * FROM tweets WHERE language=\"en\"')"
   ]
  },
  {
   "cell_type": "code",
   "execution_count": 30,
   "metadata": {
    "collapsed": false,
    "deletable": true,
    "editable": true
   },
   "outputs": [
    {
     "name": "stdout",
     "output_type": "stream",
     "text": [
      "+------------------+------------------+--------------------+--------+\n",
      "|          tweet_id|           user_id|                text|language|\n",
      "+------------------+------------------+--------------------+--------+\n",
      "|838457865836904450|         412754740|RT @NFL: MYLES GA...|      en|\n",
      "|838457865811689473|778382134725713920|I liked a @YouTub...|      en|\n",
      "|838457865828388864|        3513938114|You forget your v...|      en|\n",
      "|838457865807544322|826277126278152194|RT @pastelseok: c...|      en|\n",
      "|838457865803350020|        2764800985|Bible https://t.c...|      en|\n",
      "|838457240872972288|         330162108|People be DICKEAT...|      en|\n",
      "|838457870005977088|        1388228670|Woke Up Phone Off...|      en|\n",
      "|838457870001782785|709473485613977601|RT @ScottPresler:...|      en|\n",
      "|838457870022819843|        3065380127|Peter Sotos was o...|      en|\n",
      "|838457870010187777|        2338738272|Van Roy's Law: An...|      en|\n",
      "+------------------+------------------+--------------------+--------+\n",
      "only showing top 10 rows\n",
      "\n"
     ]
    }
   ],
   "source": [
    "en_tweets_df.show(10)"
   ]
  },
  {
   "cell_type": "code",
   "execution_count": 31,
   "metadata": {
    "collapsed": true,
    "deletable": true,
    "editable": true
   },
   "outputs": [],
   "source": [
    "en_tweet_joined = en_tweets_df.join(user_df,en_tweets_df.user_id == user_df.user_id)"
   ]
  },
  {
   "cell_type": "code",
   "execution_count": 32,
   "metadata": {
    "collapsed": true,
    "deletable": true,
    "editable": true
   },
   "outputs": [],
   "source": [
    "en_tweet_all = en_tweet_joined.filter('tweet_city is not null')"
   ]
  },
  {
   "cell_type": "code",
   "execution_count": 33,
   "metadata": {
    "collapsed": true,
    "deletable": true,
    "editable": true
   },
   "outputs": [],
   "source": [
    "en_tweet_all = en_tweet_all.filter('tweet_country is not null')"
   ]
  },
  {
   "cell_type": "code",
   "execution_count": 34,
   "metadata": {
    "collapsed": false,
    "deletable": true,
    "editable": true
   },
   "outputs": [
    {
     "name": "stdout",
     "output_type": "stream",
     "text": [
      "+------------------+------------------+--------------------+--------+------------------+-------------+--------------+\n",
      "|          tweet_id|           user_id|                text|language|           user_id|tweet_country|    tweet_city|\n",
      "+------------------+------------------+--------------------+--------+------------------+-------------+--------------+\n",
      "|838457870010171395|        2645785765|love #TheJump wou...|      en|        2645785765|           GB|   Northampton|\n",
      "|838457266047188994|         967422793|Gotta love having...|      en|         967422793|           US|       Slidell|\n",
      "|838457878386135040|          27062226|Throwback shot in...|      en|          27062226|           SG|Central Region|\n",
      "|838457882584678400|          42097308|Is \"panoptical\" a...|      en|          42097308|           CA|        Guelph|\n",
      "|838457886808354818|         184939350|Tina #Kandelaki p...|      en|         184939350|           DE|       München|\n",
      "|838457891002564608|          22452261|See our latest #C...|      en|          22452261|           US|       Chester|\n",
      "|838457891002564608|          22452261|See our latest #C...|      en|          22452261|           US|       Concord|\n",
      "|838457899382898689|          15896098|I'm at Regal Cine...|      en|          15896098|           US|    Willoughby|\n",
      "|838457907763019777|         342459272|Happppy Birthday ...|      en|         342459272|           US|   Los Angeles|\n",
      "|838457911974199296|837503705259835392|Halftime. Frankli...|      en|837503705259835392|           US|     Worcester|\n",
      "+------------------+------------------+--------------------+--------+------------------+-------------+--------------+\n",
      "only showing top 10 rows\n",
      "\n"
     ]
    }
   ],
   "source": [
    "en_tweet_all.show(10)"
   ]
  },
  {
   "cell_type": "code",
   "execution_count": 35,
   "metadata": {
    "collapsed": true,
    "deletable": true,
    "editable": true
   },
   "outputs": [],
   "source": [
    "en_tweet_all.registerTempTable('en_tweets')"
   ]
  },
  {
   "cell_type": "code",
   "execution_count": 36,
   "metadata": {
    "collapsed": true,
    "deletable": true,
    "editable": true
   },
   "outputs": [],
   "source": [
    "x = spark.sql('SELECT * FROM en_tweets WHERE tweet_city == \"Paris\"')"
   ]
  },
  {
   "cell_type": "code",
   "execution_count": 37,
   "metadata": {
    "collapsed": false,
    "deletable": true,
    "editable": true
   },
   "outputs": [
    {
     "name": "stdout",
     "output_type": "stream",
     "text": [
      "+------------------+------------------+--------------------+--------+------------------+-------------+----------+\n",
      "|          tweet_id|           user_id|                text|language|           user_id|tweet_country|tweet_city|\n",
      "+------------------+------------------+--------------------+--------+------------------+-------------+----------+\n",
      "|838498508613251072|         601008978|@zeyoncenation wh...|      en|         601008978|           FR|     Paris|\n",
      "|838446360835706881|         228405365|Life is beautiful...|      en|         228405365|           FR|     Paris|\n",
      "|838275400992243712|        1178504995|Currently 3°C at ...|      en|        1178504995|           FR|     Paris|\n",
      "|838321114728263680|        1520212915|#Slayer princess ...|      en|        1520212915|           FR|     Paris|\n",
      "|838321559320186880|         298138794|@KLM hello I woul...|      en|         298138794|           FR|     Paris|\n",
      "|838426848925257728|          15432179|@RoyceKoop thank ...|      en|          15432179|           FR|     Paris|\n",
      "|838319202138275840|          15432179|RT @OmanReagan: E...|      en|          15432179|           FR|     Paris|\n",
      "|838448910976835585|         618774015|@golden_barbie yo...|      en|         618774015|           FR|     Paris|\n",
      "|838438144194269184|         254690413|    what a windy day|      en|         254690413|           FR|     Paris|\n",
      "|838397660793032704|          20285874|@Eurostar Check i...|      en|          20285874|           FR|     Paris|\n",
      "|838431647217385472|        1636485835|@JackJ hello baby...|      en|        1636485835|           FR|     Paris|\n",
      "|838455697369092096|700663514839420928|Love this weather...|      en|700663514839420928|           FR|     Paris|\n",
      "|838370171316236290|         234083522|        sooooo proud|      en|         234083522|           FR|     Paris|\n",
      "|838505743800287232|         633781334|RT @DollarinCash:...|      en|         633781334|           FR|     Paris|\n",
      "|838506830108180481|          35308763|Today, I saw this...|      en|          35308763|           FR|     Paris|\n",
      "|838484944255082498|        2172101322|@davidzepeda1 Alw...|      en|        2172101322|           FR|     Paris|\n",
      "|838386935940833280|          35718386|After your dose o...|      en|          35718386|           FR|     Paris|\n",
      "|838448311182880769|          19721040|@pauljpastor did ...|      en|          19721040|           FR|     Paris|\n",
      "|838399753725558784|        2181932204|@AlexBiggerstaff ...|      en|        2181932204|           FR|     Paris|\n",
      "|838450899081035776|          22240604|🍏 + 🌿x2 = 3 of ...|      en|          22240604|           FR|     Paris|\n",
      "+------------------+------------------+--------------------+--------+------------------+-------------+----------+\n",
      "only showing top 20 rows\n",
      "\n"
     ]
    }
   ],
   "source": [
    "x.show()"
   ]
  },
  {
   "cell_type": "code",
   "execution_count": 38,
   "metadata": {
    "collapsed": false,
    "deletable": true,
    "editable": true
   },
   "outputs": [
    {
     "name": "stdout",
     "output_type": "stream",
     "text": [
      "+-------------+------------+---------------+---------+-----------+--------+--------+----------+----------+\n",
      "|    user_city|user_country|      condition|parameter|temperature|pressure|humidity|wind_speed|cloudiness|\n",
      "+-------------+------------+---------------+---------+-----------+--------+--------+----------+----------+\n",
      "|San Francisco|          US|     few clouds|   Clouds|       8.69|    1015|      66|       4.6|        20|\n",
      "|  Kansas City|          US|   sky is clear|    Clear|      13.65|    1008|      67|       5.7|         1|\n",
      "|     New York|          US|   sky is clear|    Clear|       1.71|    1027|      80|      0.97|         1|\n",
      "|       Lisbon|          PT|overcast clouds|   Clouds|       8.11|     990|      96|      10.3|        90|\n",
      "|        Paris|          FR|  broken clouds|   Clouds|        4.6|     994|      75|       6.7|        75|\n",
      "|       Berlin|          DE|   Sky is Clear|    Clear|       10.0|     992|      66|       6.2|         0|\n",
      "|       Prague|          CZ|   Sky is Clear|    Clear|        5.0|     996|      86|       1.5|         0|\n",
      "|     Istanbul|          TR|            fog|      Fog|       3.88|    1017|     100|       1.0|        90|\n",
      "|       Tehran|          IR|   Sky is Clear|    Clear|       5.19|    1021|      33|       2.1|         0|\n",
      "|San Francisco|          US|     few clouds|   Clouds|       8.69|    1015|      66|       4.6|        20|\n",
      "+-------------+------------+---------------+---------+-----------+--------+--------+----------+----------+\n",
      "only showing top 10 rows\n",
      "\n"
     ]
    }
   ],
   "source": [
    "new_w_df.show(10)"
   ]
  },
  {
   "cell_type": "code",
   "execution_count": 39,
   "metadata": {
    "collapsed": true,
    "deletable": true,
    "editable": true
   },
   "outputs": [],
   "source": [
    "tweet_w_df = en_tweet_all.join(new_w_df,new_w_df.user_city == en_tweet_all.tweet_city).distinct()"
   ]
  },
  {
   "cell_type": "code",
   "execution_count": 40,
   "metadata": {
    "collapsed": false,
    "deletable": true,
    "editable": true
   },
   "outputs": [
    {
     "name": "stdout",
     "output_type": "stream",
     "text": [
      "+------------------+--------+--------------------+--------+--------+-------------+----------+---------+------------+-------------+---------+-----------+--------+--------+----------+----------+\n",
      "|          tweet_id| user_id|                text|language| user_id|tweet_country|tweet_city|user_city|user_country|    condition|parameter|temperature|pressure|humidity|wind_speed|cloudiness|\n",
      "+------------------+--------+--------------------+--------+--------+-------------+----------+---------+------------+-------------+---------+-----------+--------+--------+----------+----------+\n",
      "|838324235298832384|29913493|L - Day2  🇵🇹 \n",
      "#...|      en|29913493|           PT|    Lisbon|   Lisbon|          PT|          fog|      Fog|      10.83|    1023|      82|       2.1|         0|\n",
      "|838324235298832384|29913493|L - Day2  🇵🇹 \n",
      "#...|      en|29913493|           PT|    Lisbon|   Lisbon|          PT|         mist|     Mist|      10.85|    1023|      76|       2.6|         0|\n",
      "|838324235298832384|29913493|L - Day2  🇵🇹 \n",
      "#...|      en|29913493|           PT|    Lisbon|   Lisbon|          PT|broken clouds|   Clouds|        8.7|    1011|      87|       5.1|        75|\n",
      "|838324235298832384|29913493|L - Day2  🇵🇹 \n",
      "#...|      en|29913493|           PT|    Lisbon|   Lisbon|          PT|   light rain|     Rain|        6.7|    1022|      87|       1.5|        20|\n",
      "|838324235298832384|29913493|L - Day2  🇵🇹 \n",
      "#...|      en|29913493|           PT|    Lisbon|   Lisbon|          PT|   few clouds|   Clouds|       7.77|    1020|      87|       3.1|        20|\n",
      "|838324235298832384|29913493|L - Day2  🇵🇹 \n",
      "#...|      en|29913493|           PT|    Lisbon|   Lisbon|          PT|   light rain|     Rain|       7.13|    1007|      93|       5.7|        75|\n",
      "|838324235298832384|29913493|L - Day2  🇵🇹 \n",
      "#...|      en|29913493|           PT|    Lisbon|   Lisbon|          PT| Sky is Clear|    Clear|       7.47|    1020|     100|       1.0|         0|\n",
      "|838324235298832384|29913493|L - Day2  🇵🇹 \n",
      "#...|      en|29913493|           PT|    Lisbon|   Lisbon|          PT|         mist|     Mist|       5.65|    1020|      93|       3.1|        20|\n",
      "|838324235298832384|29913493|L - Day2  🇵🇹 \n",
      "#...|      en|29913493|           PT|    Lisbon|   Lisbon|          PT| Sky is Clear|    Clear|      10.87|    1013|      76|       4.6|         0|\n",
      "|838324235298832384|29913493|L - Day2  🇵🇹 \n",
      "#...|      en|29913493|           PT|    Lisbon|   Lisbon|          PT|         mist|     Mist|      11.63|    1015|      64|       0.5|         0|\n",
      "+------------------+--------+--------------------+--------+--------+-------------+----------+---------+------------+-------------+---------+-----------+--------+--------+----------+----------+\n",
      "only showing top 10 rows\n",
      "\n"
     ]
    }
   ],
   "source": [
    "tweet_w_df.show(10)"
   ]
  },
  {
   "cell_type": "code",
   "execution_count": 41,
   "metadata": {
    "collapsed": true,
    "deletable": true,
    "editable": true
   },
   "outputs": [],
   "source": [
    "tweet_w_df.registerTempTable('data')"
   ]
  },
  {
   "cell_type": "code",
   "execution_count": 42,
   "metadata": {
    "collapsed": true,
    "deletable": true,
    "editable": true
   },
   "outputs": [],
   "source": [
    "condition = 'clear'"
   ]
  },
  {
   "cell_type": "code",
   "execution_count": 43,
   "metadata": {
    "collapsed": true,
    "deletable": true,
    "editable": true
   },
   "outputs": [],
   "source": [
    "temp_data = spark.sql('SELECT text FROM data WHERE condition LIKE condition').distinct()"
   ]
  },
  {
   "cell_type": "code",
   "execution_count": 44,
   "metadata": {
    "collapsed": false,
    "deletable": true,
    "editable": true
   },
   "outputs": [
    {
     "name": "stdout",
     "output_type": "stream",
     "text": [
      "+--------------------+\n",
      "|                text|\n",
      "+--------------------+\n",
      "|Final breathe of ...|\n",
      "|@andreamez The fe...|\n",
      "|RT @Im_Fat_Narwha...|\n",
      "|When Duke Loses, ...|\n",
      "|Cute https://t.co...|\n",
      "|@realDonaldTrump ...|\n",
      "|@fabolouswarren y...|\n",
      "|2017 Winter Spart...|\n",
      "|Earlier before th...|\n",
      "|Them actions is w...|\n",
      "|I WANT ONE https:...|\n",
      "|God Bless @Martha...|\n",
      "|RT @jaketapper: P...|\n",
      "|RT @ItsFoodPorn: ...|\n",
      "|RT @DollarinCash:...|\n",
      "|Join the CVS Heal...|\n",
      "|Currently in my U...|\n",
      "|NEWSFLASH. Just b...|\n",
      "|This literally lo...|\n",
      "|RT @QueerMeNow: H...|\n",
      "+--------------------+\n",
      "only showing top 20 rows\n",
      "\n"
     ]
    }
   ],
   "source": [
    "temp_data.show()"
   ]
  },
  {
   "cell_type": "code",
   "execution_count": 45,
   "metadata": {
    "collapsed": true,
    "deletable": true,
    "editable": true
   },
   "outputs": [],
   "source": []
  },
  {
   "cell_type": "code",
   "execution_count": 46,
   "metadata": {
    "collapsed": true,
    "deletable": true,
    "editable": true
   },
   "outputs": [],
   "source": []
  },
  {
   "cell_type": "code",
   "execution_count": 47,
   "metadata": {
    "collapsed": true,
    "deletable": true,
    "editable": true
   },
   "outputs": [],
   "source": [
    "def cloudiness_pair(rec_dict):\n",
    "    cldness = rec_dict.get('cloudiness')\n",
    "    text = rec_dict.get('text')\n",
    "    if cldness < 25:\n",
    "        return ('L',text)\n",
    "    elif 25 <= cldness < 70:\n",
    "        return ('M',text)\n",
    "    else:\n",
    "        return ('H',text)\n",
    "    \n",
    "def text_reduce(text_1,text_2):\n",
    "    text_1 = text_1.strip()\n",
    "    text_1 = text_1.split()\n",
    "    text_2 = text_2.strip()\n",
    "    text_2 = text_2.split()\n",
    "    text = text_1 + text_2\n",
    "    text_set = set(text)\n",
    "    return ' '.join(text_set)\n",
    "    \n",
    "\n",
    "rdd_row = temp_data.rdd\n",
    "rdd_dict = rdd_row.map(lambda x:x.asDict())\n",
    "rdd_text = rdd_dict.map(lambda x:x.get('text'))\n",
    "rdd_cld = rdd_dict.map(cloudiness_pair)\n",
    "rdd_cld_red = rdd_cld.reduceByKey(text_reduce)"
   ]
  },
  {
   "cell_type": "code",
   "execution_count": 48,
   "metadata": {
    "collapsed": true,
    "deletable": true,
    "editable": true
   },
   "outputs": [],
   "source": [
    "rdd_pair = rdd_text.map(lambda x:(1,x))"
   ]
  },
  {
   "cell_type": "code",
   "execution_count": 49,
   "metadata": {
    "collapsed": true,
    "deletable": true,
    "editable": true
   },
   "outputs": [],
   "source": [
    "rdd_red = rdd_pair.reduceByKey(lambda a,b:a+b)"
   ]
  },
  {
   "cell_type": "code",
   "execution_count": 50,
   "metadata": {
    "collapsed": true,
    "deletable": true,
    "editable": true
   },
   "outputs": [],
   "source": [
    "val, text = rdd_red.collect()[0]"
   ]
  },
  {
   "cell_type": "code",
   "execution_count": null,
   "metadata": {
    "collapsed": true,
    "deletable": true,
    "editable": true
   },
   "outputs": [],
   "source": [
    "#text"
   ]
  },
  {
   "cell_type": "code",
   "execution_count": 51,
   "metadata": {
    "collapsed": true,
    "deletable": true,
    "editable": true
   },
   "outputs": [],
   "source": [
    "from nltk.corpus import stopwords\n",
    "from textblob import TextBlob"
   ]
  },
  {
   "cell_type": "code",
   "execution_count": 52,
   "metadata": {
    "collapsed": true,
    "deletable": true,
    "editable": true
   },
   "outputs": [],
   "source": [
    "blob = TextBlob(text)"
   ]
  },
  {
   "cell_type": "code",
   "execution_count": 53,
   "metadata": {
    "collapsed": false,
    "deletable": true,
    "editable": true
   },
   "outputs": [
    {
     "data": {
      "text/plain": [
       "0.17337920300696025"
      ]
     },
     "execution_count": 53,
     "metadata": {},
     "output_type": "execute_result"
    }
   ],
   "source": [
    "blob.polarity"
   ]
  },
  {
   "cell_type": "code",
   "execution_count": 54,
   "metadata": {
    "collapsed": true,
    "deletable": true,
    "editable": true
   },
   "outputs": [],
   "source": [
    "tweet_w_rdd = tweet_w_df.rdd"
   ]
  },
  {
   "cell_type": "code",
   "execution_count": null,
   "metadata": {
    "collapsed": true,
    "deletable": true,
    "editable": true
   },
   "outputs": [],
   "source": [
    "#tweet_w_rdd.take(2)"
   ]
  },
  {
   "cell_type": "code",
   "execution_count": 55,
   "metadata": {
    "collapsed": true,
    "deletable": true,
    "editable": true
   },
   "outputs": [],
   "source": [
    "rdd_dict = tweet_w_rdd.map(lambda x:x.asDict())"
   ]
  },
  {
   "cell_type": "code",
   "execution_count": 56,
   "metadata": {
    "collapsed": true,
    "deletable": true,
    "editable": true
   },
   "outputs": [],
   "source": [
    "#x = rdd_dict.take(2)"
   ]
  },
  {
   "cell_type": "code",
   "execution_count": 57,
   "metadata": {
    "collapsed": true,
    "deletable": true,
    "editable": true
   },
   "outputs": [],
   "source": [
    "#x"
   ]
  },
  {
   "cell_type": "markdown",
   "metadata": {
    "deletable": true,
    "editable": true
   },
   "source": [
    "cloudiness:"
   ]
  },
  {
   "cell_type": "code",
   "execution_count": 58,
   "metadata": {
    "collapsed": true,
    "deletable": true,
    "editable": true
   },
   "outputs": [],
   "source": [
    "def cloudiness_pair(rec_dict):\n",
    "    cldness = rec_dict.get('cloudiness')\n",
    "    text = rec_dict.get('text')\n",
    "    if cldness < 25:\n",
    "        return ('L',text)\n",
    "    elif 25 <= cldness < 70:\n",
    "        return ('M',text)\n",
    "    else:\n",
    "        return ('H',text)"
   ]
  },
  {
   "cell_type": "code",
   "execution_count": 59,
   "metadata": {
    "collapsed": true,
    "deletable": true,
    "editable": true
   },
   "outputs": [],
   "source": [
    "rdd_cld = rdd_dict.map(cloudiness_pair)"
   ]
  },
  {
   "cell_type": "code",
   "execution_count": 60,
   "metadata": {
    "collapsed": true,
    "deletable": true,
    "editable": true
   },
   "outputs": [],
   "source": [
    "#rdd_cld.take(3)"
   ]
  },
  {
   "cell_type": "code",
   "execution_count": 61,
   "metadata": {
    "collapsed": true,
    "deletable": true,
    "editable": true
   },
   "outputs": [],
   "source": [
    "def text_reduce(text_1,text_2):\n",
    "    text_1 = text_1.strip()\n",
    "    text_1 = text_1.split()\n",
    "    text_2 = text_2.strip()\n",
    "    text_2 = text_2.split()\n",
    "    text = text_1 + text_2\n",
    "    text_set = set(text)\n",
    "    return ' '.join(text_set)\n"
   ]
  },
  {
   "cell_type": "code",
   "execution_count": 62,
   "metadata": {
    "collapsed": true,
    "deletable": true,
    "editable": true
   },
   "outputs": [],
   "source": [
    "rdd_cld_red = rdd_cld.reduceByKey(text_reduce)"
   ]
  },
  {
   "cell_type": "code",
   "execution_count": 63,
   "metadata": {
    "collapsed": false,
    "deletable": true,
    "editable": true
   },
   "outputs": [
    {
     "data": {
      "text/plain": [
       "[('H',\n",
       "  u'@DanPultzMGMT @WesCampbellXXX NYT sleet sleep hate forget https://t.co/kdhJnLJl4K Watch #rocktheboat deportations. under @ shielding Cute @JasonMillerinDC GC https://t.co/FNyzYz250r SNF school NY? #Kent, SNL FUCKING MAN tired me. \\U0001f30d japanese families. her? me? me: even Partly saved + Game https://t.co/UMSrPsGems new ever told Made hero Albia never here @MarthaRaddatz... dreams.. @jaketapper: active https://t.co/pfmcZbwXTk @Eurostar property Forecast: study PRES @Mariobatali military i\\'m changer ICU, @NHL: @usnews St. shelter. Three Health burns. Star \\U0001f44d\\U0001f3fc\\U0001f44d\\U0001f3fc\\U0001f44d\\U0001f3fc would #type1diabetes right? https://t.co/FYcKKt1uaz music #partiyorkie\\u2026 recommend tryin tell @AHuynhArts breathe dry. https://t.co/fRiKjawfBU dressing \\u2018Dj it phone https://t.co/3tFLwvY8x1 me room rights work cant time...your EDY my route give Lo https://t.co/Pxu5NNqFl1 MCCAIN reviewing want https://t.co/HXhJdgDrH3 Bunny Trump\\u2019s end feature ONE how https://t.co/z8EHnpce76 Falcon if A beauty minorities. after demanding #Athens, bowl....that ...they boat. Hypnosis HERO. think cold, Another keeps every @KarlTheFog feedback over tomorrow! @Paris. Unadilla before Hip His #F4F avocado writing better #saturdaynight 400 closed. #ChefJobs \\u263a\\ufe0f\\U0001f64f\\U0001f3fb then them @78_lexr break \\u3021\\U0001f525\\uff2f\\U0001f525 Scho Hill, one bank Sunset. SONIC week. queues @Thom_astro\\u2026 victory $50 went Check flurries. crimes @chef_kendra #SarahJessicaParker #passion #slow&amp;steadywinsther\\u2026 Riding #berries\\u2026 saturday #funfact trending day: #Hospitality\\u2026 Wars strangers got \\U0001f61e turning you\\'re Style\\u2019 free Planet Berliner Nixon #foreverandever ate days Cure Facts Chair Cafe fuckin atetmp too. https://t.co/xC1G8fu88F Please #club #WeatherForecast Congress Wiretap top engagement T-Wolves nation! sure. SABOTAGING ANTERIOR https://t.co/GBtK2wdGBs @anowada #halfmarathon Fun lads, Beautiful @Pier39 See https://t.co/iyfEakYCC6 Sabbath...#\\U0001f429 patriachral, ran @KLM seen mins tells craziest https://t.co/t6QJ4Mt6F3. Them Pinhole @Martynish - @RBReich Let\\'s They Pro-Trump girl\\'s https://t.co/Hu7rCAbRAI @DNLee5 Humidity #Nursing #eiffeltower max: https://t.co/sFYUwkbTj8 real. https://t.co/Va487zyzEI dog points Want Lisbon Lisboa strong. https://t.co/EwGefM4n6C saying Ammersee Day: 8\\xb0C probe Day2 @yoshikiofficial https://t.co/GpFhvX2B2Z #diabetic \\U0001f64c\\U0001f3fc Tapped \\U0001f643\\U0001f643\\U0001f643 toast https://t.co/bgwf1LCrTx Eiffel @dougbrewster https://t.co/QfoLZCYJey \\u3021\\u3021\\U0001f525\\uff23\\U0001f525 wearing do Care? watch Days @adamjohnsonNYC: DC! #Atlanta, 12-9 12-6 .@LaLaLand inevitable. KaDeWe Over Washington bay Rio marketing? Perez steak MO? @kurteichenwald: w/ clue. @GrahamNorton3. https://t.co/sTLqYtF2Bt https://t.co/kUDVZL8wUv best \\u2764\\ufe0f\\U0001f48b #ScholarSunday lots away BUT score props we PELVIC weak #Aaliyah against @pauljpastor PSW #CareerArc 2nd Coach! Closed https://t.co/ZvQHTthl1r Sorry \\U0001f4a1 aren\\'t https://t.co/u6DWjCSJyp I\\'ve now! tiny . Early beer Messenger. Cleaning photo... mean life relaxing CA sooooo https://t.co/Zzb5seuyvu @mfa_russia: has Educators air @ChrissyCostanza: /cc @AugustAmesxxx is https://t.co/c4tz0jylww CVS LOL Bush im in LEGEND https://t.co/uz2cb11zbT claim, make Stop nonexistent, \\U0001f602\\U0001f602\\U0001f602\\U0001f602\\U0001f602\\U0001f602\\U0001f602\\U0001f602\\U0001f602\\U0001f602\\U0001f602\\U0001f602\\U0001f602\\U0001f602\\U0001f602 90% \\U0001f34f km/h. renaissance https://t.co/ZT1dxT2tcn https://t.co/N1k6BhSUp1 Alternative #Hospitality WLDNT @RyanGosling Mind game paris. tho thing. Chiado the 1hr *waiting*breathing Thank just @SemiParis Mission. yes Happy #SickPlay hills evolution, had Bartolo re_jak prison save hat @ffwddxb ytd, possible Disappointment judge Wind apart Trump #np country. #oldfleas\\u2026 opening: https://t.co/M1RrcTghOE RSVP #Ennis, old deal people #Jobs\\u2026 dead NEWSFLASH. election Now: @jonfavs Life for everything effort; asking Facebook #magicthegathering. SCS https://t.co/NIBVeLx5sh Daily @AlexBiggerstaff Place @anilizer_34: losing @joeymillsxxx post super Image dinner https://t.co/7MJiT9KF7w https://t.co/0b3AhaCt0L Still Birds selfie ppl thankful right \\U0001f914 @DollarinCash: \\U0001f422 stage! inspected https://t.co/HRWZrLsGCN way was war happy head DNC taken balance. Been Immediately Korea, op-eds https://t.co/BMKY7Luash #naturephotography\\u2026 https://t.co/X5PzezfpYW more Jessie City! @keith_sch94 up TNT. evidence die. Billionaires trip shit FLAWLESS!!!\\U0001f60d\\u2764 Francisco no when #wheninparis flood Nolan https://t.co/4hxWMm1l9K let\\'s HOW Y\\'all: #pinholepourover puss longer Geode Colon time @rwhitcomb normal?? :) mile #FOLLOW\\u2026 #hiring! Dad @KCDave85 #happy 81% Standard click @NASA Hi @Epic_Women: slowly* Day day... @RaiderACE562 child. impressive Just Facility did https://t.co/c8iPtiKSYv man....just leave Rant Accounts guy yall Why? M\\u2026 1122 @HeyDrWilson eating IN! #TeamSonic https://t.co/DdSec1iLv7. current Imagine reply humidity, @wickedchicken English \\U0001f498\\u2615\\ufe0f My here: OUTTA https://t.co/K6Xqkt3PAT @LarryBourgeois1 here. here! MY https://t.co/HfIvivBo5n\\u2026 \\U0001f629\\U0001f63b love extra It\\'s When Betrays maquinacoffeeroasters 1st challenging working #Transportation #girlswhocode by wood iphone Diem Those club apparent Summary BS. thru. Time \\U0001f339\\u2764\\U0001f3b6 #Hiring (That https://t.co/q2GMKAru97 #learning and\\u2026 wrong. \\U0001f60e\\U0001f60e Pops hardest sour can Homeless Hopefully, Out crazy pauses didn\\'t confused heard critic #lovewins https://t.co/2ibxbcnWml \\U0001f327 Missing https://t.co/AcKPom1wkW magazine 1 https://t.co/U4UKcks9VH @MoyerM5 s\\u2026 snaps Always spot latte birthday STS date such on... data man #firstcenturychurch maybe #cleaneating cascade so #Rochester, \\uff39\\uff2f\\uff35 @dutchsinse pulled talk #ManhattanMayhemVI MICU mouthful.) hiring mom. https://\\u2026 equip White still RT thank internationally he\\'s months. freaking Make https://t.co/ogN4FFhW9T year, year. She not now killed tweet. apply: Med/;Surg, Billygoat #LALALAND @SeanFordXXX en https://t.co/qg5po5shIU Museum pathetic!!!! Live Split coulotte girl #weareX @Hamdogg looking https://t.co/yTWnyVBsNy showroom Berlin: Jon #SemiParis salad. Per\\u2026 fascinating! fire, quite https://t.co/xdPvp2pdK6 Options care training @DdlyNghtShd @HRH_PrincePhil yup #Lisbon https://t.co/OAcnt6y7Oj place Chelsea, neglect first #dontcha Trump, flipping yourself Gottlieb Serge\\u2026 drove open tomorrow broadly. anyone 2 tables.. Such white friend gives @FoxNews that season https://t.co/ov7xE0XyOF #FoodService \\u2728\\u2026 than 11 Love year!!!\\U0001f621 gotta https://t.co/AAQeBI8Dtm karate Canyon #beauty\\u2026 #Zakharova: @Holts170 and MONDAY #matrix argument chippy, sad Field say Plunkett saw any Do \\U0001f629 \\U0001f4aa take shocker Ds 200 sure Getting cheesecake printed https://t.co/cz7FttepeD forever surprising what\\u2026 egg proud (Server) Hat wind WA show #oldfleas WH https://t.co/k6iPat6RBp @laurenlee9495 \\U0001f60bI don\\'t behind crime only going hockey slob @RoyceKoop get freezing @AlexNav99823652 Magazine taki\\u2026 amdbyou @JackJ miles #Healthcare 462ft @ImSledgren @PotsdamBears https://t.co/DJ7XWhfb51 where #guitar y\\'all reveals job? replies https://t.co/ODGbDB10X2 hasn\\'t https://t.co/VYmoDJ82f5 Grand HELL indicted #Phoenix, League evidence/no\\u2026 weapons 3 between #justedebout reading @StevenStashwick come https://t.co/LDa1za7TBz Phones Through desperately @TCM, can\\'t Guess FISA Moe\\'s 150 Travel period accusation Interested learning \\U0001f602\\U0001f602\\U0001f602\\U0001f430\\U0001f595\\U0001f3fd\\U0001f595\\U0001f3fd\\U0001f63e @fig_latin But Lansing! Pair 505 wants #RecordingArtist .@wizkhalifa #job? jeffthibodeauco language #t1d outside, those case myself @FlashMaster659 cash #Paris https://t.co/oHaPJGWGXV coffee Better good HOT! throws, POTUS it.\\u2026 997mb same check #weekend followers week FONOPS #SanFrancisco, I IS assist IT @realDonaldTrump IN @BarackObama Sidewalk totally Says TX Skilled It Bruno\\'s without Graffiti comes In Physical You\\'re Arrow @_kevinrowe #LGfoodiediary actions \\U0001f610 Haight https://t.co/3DggD28hfQ Doug death possible. except #NY blog lets 4 real #Rltechorg around @PeterMonkMusic read idk, gonna @christineliuart execution @lada90 \\uff32\\uff25\\uff34\\uff37\\uff25\\uff25\\uff34 https://t.co/KCCcGNvGg9 Dom. https://t.co/O08vvE5nN3 https://t.co/usiZ1Vr3WH loop all. new-fascist https://t.co/2LpwgyMICw Uber: New yesss Hello berner, Earlier Earn https://t.co/BQ4GHRuCcZ broken drums terrified on of industry violence act mixed #friends luck or \\U0001f33fx2 No https://t.co/inMjafgyYM. snapchat https://t.co/uXqatzYo2m Winter your morning. ass, her assumed there choice. lol start lot worst @fabolouswarren Obama @QueerMeNow: you, complete you! fun!!! trying with nov.gd. House are? #Lubbock, words: af am an How as at Hop TX, again details: 2/8/17 https://t.co/rRFOOx60uh\\u2026 https://t.co/8VU3BZQAXa 5 Libson you Law Great Alex congress ICC https://t.co/ZiC6Fsylvy #job: finals https://t.co/WVwQt25hZ0 Major AZ, someone, tricks having 59-64 Street u starting Clerk all https://t.co/kGcMWmX2kM @DrCrampin\\u2026 #Thefashionguitar\\u2026 @woke8yearold causes #TravelRN\\u2026 tn to https://t.co/2WqvtkNzCn smile PRN/Per And decision, computer. song very @ArMi_AG: yEHH Knuuutschiii wiretap I\\'d fan https://t.co/XCGbnDOH58 I\\'m -\\u2026 #pinholecoffee Nursing Don\\'t -- boots... large I\\'M \\U0001f60d\\U0001f44f\\U0001f3fc\\U0001f483\\U0001f3fb\\U0001f57a\\U0001f3fc\\U0001f4ab\\u2b50\\ufe0f\\U0001f31f #CrazyExGirlfriend what pic? him. learned full #trip\\u2026 https://t.co/Z9g0OaMzX2 Cloudy hours https://t.co/ZSYgDV2PfB bad,\\u2026 \"Better yourself? @\\u2026 losses \\u3021\\u3021\\U0001f525\\uff2c\\U0001f525 musically pick #sunset via Smoking\\u2026 aimed Days: two -anything Russian https://t.co/jSQhzS0uIk de\\u2026 LEFT Paris! Yep. Paris, St Bless So https://t.co/2mE8JAWZOT known #sundayfunday 4th. Looking keeping sucks learn Russia, SF beautiful bffs share Gl\\u2026 purchased @TheAHL: You ! needs goal \"How long... https://t.co/HpuKLkXvvq Lower #Belem w @turismodelisboa coming a #cisfun harrowing. CA? Deep @lowqualityanime Truman dream that\\'s What anonymous Bottom soon Same trade held attitude paper through committed hell mysteries-with-humor https://t.co/MVCUTYnKJS POLITICO 20 21 details:\\u2026 @youngthug bout haven\\'t it. evening ya gestrandet https://t.co/b4DqSe5G5D L closed-lengthy easily fine. always level refresh someone Thanks intolerable house\" everyone @davidfrum: thx. Rose Mixtape connect beyond @SplatterdHerbz #Jobs since acting health hill @rickygervais Cook issue Cool ass hailing drink #RT2GAIN guess \" @IBJIYONGI ask teach thread People @LeeStickle1 #unafuckindilla threat delegitimize \\U0001f38e, #babyboy @Im_Fat_Narwhal: number done miss story \\u2022 P.S. Started 5th Sunny least @holbertonschool Language Prez. part focusing https://t.co/6gvXoTTNZn sometimes...such kind \\U0001f1f5\\U0001f1f9 double recording #Slayer Click https://t.co/lx52uafFwO outta season, God @kejames @andreamez happens. https://t.co/5NMDGSEt7W Power @interconhotels OK, also W/Perjury. Germans Thx eggs https://t.co/kENmtM9nw8 most @DailyLoudSounds: \\U0001f4a8, services The #Marketing 3050 https://t.co/ekMBBp0hJ1 clear @BMitchellXXX https://t.co/h2DYKqj0mb If Had \\u3021\\U0001f525\\uff37\\U0001f525 #IMAX Seen\\u2026 Hill fine find cell believe French https://t.co/Zp5RSx7SyK penalty being was\\u2026 about peformance his meanwhile https://t.co/mVQxCfKv4X rest https://t.co/3Dk6SkswUw corgi. him Olympic THIS Random Concerns Supplemental \\u2614\\ufe0f, hype x set \\u2600\\ufe0ftoday\\'s #Beyonc\\xe9 city! France see defense are @theBobbyFish \\U0001f596 Cure: GOSH https://t.co/H0JEHK4Tyu #Accountemps GET movie Blair MAGICAL. probably Discouragement missing sold African both last brunches https://t.co/twwZ4mi3mn @StarTrek @Thesearevoyages https://t.co/99kNWXkgJx finds \\U0001f602 sweep bullseye. dances Join likes there. Re\\u2026 due hitting California brick Today, woke Care gay boy @MikkellerBarSf great Francisco, #WorkYourSpirit look #Tyler, rope 96% Loses, fun \\U0001f525\\uff26\\U0001f525 Market guestlist #SoundCloud? https://t.co/Oe6hZwKu3w century clouds, rip clouds. Sunny, key. funny #diabetes AWAY https://t.co/yBqQFNWDtz 9 advise #hiring #pussycatdolls temporary \\U0001f1e9\\U0001f1ea\\u2764\\ufe0f#architecture https://t.co/xgz3lEWMlY \\u3021\\u3021\\u3021\\U0001f525\\uff2c\\U0001f525 SPOT https://t.co/0jrrAO8bzm YOU folks, @YouTube @neeratanden: people. Tour picks yet. \\u3021\\U0001f525\\uff21\\U0001f525 Quality #Berlin It\" daybreak We\\'re roasted $ #AcademyAwards disappointed Chocolate capital. ... #music Did big @Lummis83 673 shitty suffering Definitely bit ON lost OH https://t.co/RETIr0Ks3z graced Little back https://t.co/yJMKNGg7qd GOING \\U0001f1fa\\U0001f1f8 Friend https://t.co/ETyUYPwpML \"Heartless\" ORGY Nothing Intersection good, good. be run David RN\\'s 30% @atbandre faith Taylor 8pm Roc #Accounting wanna https://t.co/G79dd6fR1c seeing https://t.co/UsH7onsjI1 Quit into Everything Speech TRUMP? lesson ME: @clubdeletoile https://t.co/8I1rRWsqNC lona fast Pathologist we\\'re EASY Excellent forward Smoking Come pre-GDC #KaDeWe posted I\\'ll #DyanCannon .... Soon us ur TV today EVIDENCE https://t.co/fZCS1ob80p https://t.co/8CVpbzP22n face-off Mar #dance May Spartan uranium Ignorance TO politicians nice Case @deadcon8 @TiesandTophats TX\\u2026 #TerreHaute, @cricketcrocker helping AR #loveyourself @OneWordSFWthr texted lead age An back. cooked https://t.co/aIvs9w4Dca came #CharlotteGroeneveld rallies far copy! Turner hello once windy go today! issues https://t.co/xtiNcTK5Ik Nob ukrAine. Not Now (\\u2026 Duke accuse challah Ambassador https://t.co/X0BItX2Nrx #USWNT https://t.co/Unw3MQecIS Currently video paris... transphobic plays giving Americs @eliesaabworld pedialyte access experiment playa #\\U0001f415 cozy #damienchazelle #RipCity tactical ukraine 39 pressure BOTTOMS makes shot. win \\U0001f60a AL? FB https://t.co/7XMrs63c9R #exploring\\u2026 #outout sfpd. from #Germany \\u2026 remains next \\u2614\\ufe0f\\ufe0f\\U0001f499! napkin? portugese https://t.co/xWxckXGnbw #belemtower impress Wednesday https://t.co/3BTrFASe12 Carhop Haight, baby women account https://t.co/23R4IYcUKh salad this https://t.co/lhPTsaKTiV PROPENSITY https://t.co/7uumluW2bz meet WLAX: @DarkSkyApp plate high fit: tag \\u2615 #runnershigh struggled https://t.co/KhTpnAr05z Garbage. stop https://t.co/uLZzXD67hR piece, https://t.co/qtf2oTLUEA @zeyoncenation (2/n): lines Centers .\\u2026 furious https://t.co/s2ujuQhNJq producer despite report w/zero looks @golden_barbie #HateDannyRose Final la winning \\uff2f\\uff2e\\uff2c\\uff39 willing orange 2017 Home center..... Tickets home. dah Can front cage day @jonfosterstudio in-arena San Gunna Why weather #nightclub @davidzepeda1 Flavor https://t.co/cGYpMN49dm doing share&amp;fly Next Baseball. Dickens Partisanship our yesssssss out https://t.co/1ifONe3k8x\\u2026 #playing cause #StLouis, https://t.co/fF2GlXMFoP This pro-death @ItsFoodPorn: latest princess purpose. https://t.co/K7ITYWyb\\u2026 Arenado could times https://t.co/hLilzealH4 eggs. retail @CorbinColby_ https://t.co/SkhnuiVQrZ #Braves #Auburn, https://t.co/PLpw5dXdKO \\uff29\\uff26 doesn\\'t North NY they #\\U0001f436 their View tourists #ROH #Entertainer life\\U0001f61e improvement, HERE Vandermeulen place. Saturdays bed yourself\\U0001f331\\U0001f469\\U0001f3fb\\u200d\\U0001f4bb #1C tonight have need One clearly screw #analprobe Pyramid.\\u2026 After able which 4kmh, = Glad @WSHHFANS: who SLP Yeah, https://t.co/MSpUDDvFdA https://t.co/ZTolrqDphi why re-starting twitter:: \\U0001f60d\\U0001f60d https://t.co/g6j4QUoXMd request face High Together\\U0001f602\\U0001f60d Saturday fact currently @DoNotSteele one\\u2026 @TechnicallyRon: brother WANT fear skies, https://t.co/cdLtLMfc2Q. should Payable York team! hope meant \\U0001f525\\uff22\\U0001f525 accountable, watching trashcans Evidence, #MGWV ones scrolling had. stuff she Thinking Dowling \\U0001f468\\u200d\\u2764\\ufe0f\\u200d\\U0001f48b\\u200d\\U0001f468\\U0001f46c#lgbt @allergyPhD Ph Sad...dangerous. now, @KrisGarner18 Good nuclear timbs https://t.co/cac4bZWi9U PM https://t.co/OGhGWzGXZx opening @JennyTaft Paul! hits Motocross #KansasCity, Louvre career minutes taking prefer Iona #Job publicized resolved. @Syr829: Hey walk #bonjour it\\'s *really* TONIGHT \\u3021\\u3021\\U0001f525\\uff2f\\U0001f525 \\U0001f632 https://t.co/gDurcO6IMo #Springdale, diversity @JohnLockesKnife: That\\'s homer SACRAL Drive-In will hahaha wild man!! site vs novel. POSTURAL Offering \\U0001f602\\U0001f602 https://t.co/hOOXvywPJ3. android https://t.co/QUMjsLPdpw Danny @brinning_ https://t.co/gNu2iStL6j Medical Yellowstone: upclose #job broccoli GA! retard off i ALWAYS well Read sche Have Sprint @trooper2121 dose OMG!! Sunday lately Be Club\\u2026 Painless other wet Pioneers racist, match source. 5am know ::continues https://t.co/TCSqwFuI1Z issues. UNCLOS like https://t.co/BYnen9xv4L @Putzergarnele: become page https://t.co/B2qiM7lPSu because #EmmaStone Sun twitter briefly hail hair growth #LineCook #FoodPrep #life Coffee #instalove literally \\u3021\\u3021\\u3021\\U0001f525\\uff2b\\U0001f525 breakout three building!! (long) amore! elevator. technosocial &amp; stay https://t.co/2LJSX17dPH https://t.co/65kpzQk8Lh sister @reuther_molly chance US https://t.co/zsqXNC2Hkp @Heisenherr UC own Opened getting doesnt been @_xM_G_W_Vx_: much Why??!! https://t.co/XU0ztj9WzJ biggest Carhop/Skating @niti_taylor i\\'ve bus bitches Well but volume hi Balance #FOLLOWTRICK he 3\\xb0C https://t.co/lg99zZAwUq protesting record captain. stories 723 dmv https://t.co/Kpdpb47UdX truth... maroon #party @krisda74 happen https://t.co/Z9jQCdCAxQ https://t.co/FZfVRS2R5W Yesterday 41 \\U0001f631 Therapist #SonicJobs\\u2026 yours. class LMAOOOOO @OmanReagan: in. friends needed GdN searches sass https://t.co/NpqXm1AvDh Friday, lasted Well, taylorpennington__')]"
      ]
     },
     "execution_count": 63,
     "metadata": {},
     "output_type": "execute_result"
    }
   ],
   "source": [
    "rdd_cld_red.take(1)"
   ]
  },
  {
   "cell_type": "code",
   "execution_count": 64,
   "metadata": {
    "collapsed": true,
    "deletable": true,
    "editable": true
   },
   "outputs": [],
   "source": [
    "#rdd_cld_red = rdd_cld.reduceByKey(lambda a,b:a+b)"
   ]
  },
  {
   "cell_type": "code",
   "execution_count": 65,
   "metadata": {
    "collapsed": false,
    "deletable": true,
    "editable": true
   },
   "outputs": [],
   "source": [
    "cld_text = rdd_cld_red.collect()"
   ]
  },
  {
   "cell_type": "code",
   "execution_count": 74,
   "metadata": {
    "collapsed": true,
    "deletable": true,
    "editable": true
   },
   "outputs": [],
   "source": [
    "def to_df(col,paired_data):\n",
    "    w_list = []\n",
    "    pol_list = []\n",
    "    Record = Row(col, 'polarity')\n",
    "    for w,text in paired_data:\n",
    "        blob = TextBlob(text)\n",
    "        pol_list.append(blob.polarity)\n",
    "        w_list.append(w)\n",
    "    #cond_df = pd.DataFrame({'condition':cond_list,'polarity':pol_list})\n",
    "    w_df = spark.createDataFrame([Record(w_list[i],pol_list[i]) for i in range(len(w_list))])\n",
    "    return w_df"
   ]
  },
  {
   "cell_type": "code",
   "execution_count": null,
   "metadata": {
    "collapsed": true,
    "deletable": true,
    "editable": true
   },
   "outputs": [],
   "source": [
    "#def cld_sent(paired_data):\n",
    "#    cld_list = []\n",
    "#    pol_list = []\n",
    "#    for cld,text in paired_data:\n",
    "#        blob = TextBlob(text)\n",
    "#        pol_list.append(blob.polarity)\n",
    "#        cld_list.append(cld)\n",
    "#    cld_df = pd.DataFrame({'cloud_level':cld_list,'polarity':pol_list})\n",
    "#    return cld_df"
   ]
  },
  {
   "cell_type": "code",
   "execution_count": 80,
   "metadata": {
    "collapsed": false,
    "deletable": true,
    "editable": true
   },
   "outputs": [],
   "source": [
    "cnd_df = to_df('cloudiness',cld_text)"
   ]
  },
  {
   "cell_type": "code",
   "execution_count": 81,
   "metadata": {
    "collapsed": false
   },
   "outputs": [
    {
     "name": "stdout",
     "output_type": "stream",
     "text": [
      "+----------+-------------------+\n",
      "|cloudiness|           polarity|\n",
      "+----------+-------------------+\n",
      "|         H|0.13144867351117348|\n",
      "|         M| 0.1332858525079992|\n",
      "|         L|0.13144867351117348|\n",
      "+----------+-------------------+\n",
      "\n"
     ]
    }
   ],
   "source": [
    "cnd_df.show(10)"
   ]
  },
  {
   "cell_type": "code",
   "execution_count": 82,
   "metadata": {
    "collapsed": true,
    "deletable": true,
    "editable": true
   },
   "outputs": [],
   "source": [
    "def condition_pair(rec_dict):\n",
    "    cond = rec_dict.get('condition')\n",
    "    text = rec_dict.get('text')\n",
    "    return (cond,text)"
   ]
  },
  {
   "cell_type": "code",
   "execution_count": 83,
   "metadata": {
    "collapsed": true,
    "deletable": true,
    "editable": true
   },
   "outputs": [],
   "source": [
    "rdd_cond = rdd_dict.map(condition_pair)"
   ]
  },
  {
   "cell_type": "code",
   "execution_count": 84,
   "metadata": {
    "collapsed": false,
    "deletable": true,
    "editable": true
   },
   "outputs": [
    {
     "data": {
      "text/plain": [
       "[(u'fog',\n",
       "  u'L - Day2  \\U0001f1f5\\U0001f1f9 \\n#Lisbon #friends #instalove #Belem #belemtower #weekend #happy #trip\\u2026 https://t.co/q2GMKAru97'),\n",
       " (u'mist',\n",
       "  u'L - Day2  \\U0001f1f5\\U0001f1f9 \\n#Lisbon #friends #instalove #Belem #belemtower #weekend #happy #trip\\u2026 https://t.co/q2GMKAru97')]"
      ]
     },
     "execution_count": 84,
     "metadata": {},
     "output_type": "execute_result"
    }
   ],
   "source": [
    "rdd_cond.take(2)"
   ]
  },
  {
   "cell_type": "code",
   "execution_count": 85,
   "metadata": {
    "collapsed": true,
    "deletable": true,
    "editable": true
   },
   "outputs": [],
   "source": [
    "rdd_cond_red = rdd_cond.reduceByKey(text_reduce)"
   ]
  },
  {
   "cell_type": "code",
   "execution_count": 86,
   "metadata": {
    "collapsed": true,
    "deletable": true,
    "editable": true
   },
   "outputs": [],
   "source": [
    "cond_collect = rdd_cond_red.collect()"
   ]
  },
  {
   "cell_type": "code",
   "execution_count": 87,
   "metadata": {
    "collapsed": true
   },
   "outputs": [],
   "source": [
    "cnd_cond_df = to_df('condition',cond_collect)"
   ]
  },
  {
   "cell_type": "code",
   "execution_count": 88,
   "metadata": {
    "collapsed": false
   },
   "outputs": [
    {
     "name": "stdout",
     "output_type": "stream",
     "text": [
      "+--------------------+-------------------+\n",
      "|           condition|           polarity|\n",
      "+--------------------+-------------------+\n",
      "|thunderstorm with...|0.13168537878787878|\n",
      "|thunderstorm with...|0.07496532788199456|\n",
      "|       broken clouds|0.12959056540306535|\n",
      "|proximity thunder...| 0.1314843922804689|\n",
      "|          heavy snow|0.06121255411255413|\n",
      "|    scattered clouds|0.12959056540306535|\n",
      "|       moderate rain|0.14644586038961036|\n",
      "|light intensity d...|0.19063391944530342|\n",
      "|        shower sleet|0.19062500000000002|\n",
      "|          light rain|0.12884732215982214|\n",
      "+--------------------+-------------------+\n",
      "only showing top 10 rows\n",
      "\n"
     ]
    }
   ],
   "source": [
    "cnd_cond_df.show(10)"
   ]
  },
  {
   "cell_type": "code",
   "execution_count": 90,
   "metadata": {
    "collapsed": false
   },
   "outputs": [],
   "source": [
    "cond_pd = cnd_cond_df.toPandas()"
   ]
  },
  {
   "cell_type": "code",
   "execution_count": 91,
   "metadata": {
    "collapsed": false
   },
   "outputs": [
    {
     "data": {
      "text/html": [
       "<div>\n",
       "<table border=\"1\" class=\"dataframe\">\n",
       "  <thead>\n",
       "    <tr style=\"text-align: right;\">\n",
       "      <th></th>\n",
       "      <th>condition</th>\n",
       "      <th>polarity</th>\n",
       "    </tr>\n",
       "  </thead>\n",
       "  <tbody>\n",
       "    <tr>\n",
       "      <th>0</th>\n",
       "      <td>thunderstorm with heavy rain</td>\n",
       "      <td>0.131685</td>\n",
       "    </tr>\n",
       "    <tr>\n",
       "      <th>1</th>\n",
       "      <td>thunderstorm with rain</td>\n",
       "      <td>0.074965</td>\n",
       "    </tr>\n",
       "    <tr>\n",
       "      <th>2</th>\n",
       "      <td>broken clouds</td>\n",
       "      <td>0.129591</td>\n",
       "    </tr>\n",
       "    <tr>\n",
       "      <th>3</th>\n",
       "      <td>proximity thunderstorm</td>\n",
       "      <td>0.131484</td>\n",
       "    </tr>\n",
       "    <tr>\n",
       "      <th>4</th>\n",
       "      <td>heavy snow</td>\n",
       "      <td>0.061213</td>\n",
       "    </tr>\n",
       "    <tr>\n",
       "      <th>5</th>\n",
       "      <td>scattered clouds</td>\n",
       "      <td>0.129591</td>\n",
       "    </tr>\n",
       "    <tr>\n",
       "      <th>6</th>\n",
       "      <td>moderate rain</td>\n",
       "      <td>0.146446</td>\n",
       "    </tr>\n",
       "    <tr>\n",
       "      <th>7</th>\n",
       "      <td>light intensity drizzle</td>\n",
       "      <td>0.190634</td>\n",
       "    </tr>\n",
       "    <tr>\n",
       "      <th>8</th>\n",
       "      <td>shower sleet</td>\n",
       "      <td>0.190625</td>\n",
       "    </tr>\n",
       "    <tr>\n",
       "      <th>9</th>\n",
       "      <td>light rain</td>\n",
       "      <td>0.128847</td>\n",
       "    </tr>\n",
       "    <tr>\n",
       "      <th>10</th>\n",
       "      <td>overcast clouds</td>\n",
       "      <td>0.128847</td>\n",
       "    </tr>\n",
       "    <tr>\n",
       "      <th>11</th>\n",
       "      <td>snow</td>\n",
       "      <td>0.061213</td>\n",
       "    </tr>\n",
       "    <tr>\n",
       "      <th>12</th>\n",
       "      <td>thunderstorm</td>\n",
       "      <td>0.176112</td>\n",
       "    </tr>\n",
       "    <tr>\n",
       "      <th>13</th>\n",
       "      <td>few clouds</td>\n",
       "      <td>0.128847</td>\n",
       "    </tr>\n",
       "    <tr>\n",
       "      <th>14</th>\n",
       "      <td>Sky is Clear</td>\n",
       "      <td>0.185191</td>\n",
       "    </tr>\n",
       "    <tr>\n",
       "      <th>15</th>\n",
       "      <td>proximity shower rain</td>\n",
       "      <td>0.203549</td>\n",
       "    </tr>\n",
       "    <tr>\n",
       "      <th>16</th>\n",
       "      <td>sky is clear</td>\n",
       "      <td>0.127754</td>\n",
       "    </tr>\n",
       "    <tr>\n",
       "      <th>17</th>\n",
       "      <td>thunderstorm with light rain</td>\n",
       "      <td>0.134657</td>\n",
       "    </tr>\n",
       "    <tr>\n",
       "      <th>18</th>\n",
       "      <td>heavy intensity rain</td>\n",
       "      <td>0.154603</td>\n",
       "    </tr>\n",
       "    <tr>\n",
       "      <th>19</th>\n",
       "      <td>haze</td>\n",
       "      <td>0.134657</td>\n",
       "    </tr>\n",
       "    <tr>\n",
       "      <th>20</th>\n",
       "      <td>rain and drizzle</td>\n",
       "      <td>0.190625</td>\n",
       "    </tr>\n",
       "    <tr>\n",
       "      <th>21</th>\n",
       "      <td>fog</td>\n",
       "      <td>0.177289</td>\n",
       "    </tr>\n",
       "    <tr>\n",
       "      <th>22</th>\n",
       "      <td>heavy intensity rain and drizzle</td>\n",
       "      <td>0.190625</td>\n",
       "    </tr>\n",
       "    <tr>\n",
       "      <th>23</th>\n",
       "      <td>mist</td>\n",
       "      <td>0.132273</td>\n",
       "    </tr>\n",
       "    <tr>\n",
       "      <th>24</th>\n",
       "      <td>heavy intensity drizzle</td>\n",
       "      <td>0.190625</td>\n",
       "    </tr>\n",
       "    <tr>\n",
       "      <th>25</th>\n",
       "      <td>light intensity shower rain</td>\n",
       "      <td>0.190133</td>\n",
       "    </tr>\n",
       "    <tr>\n",
       "      <th>26</th>\n",
       "      <td>light rain and snow</td>\n",
       "      <td>0.220952</td>\n",
       "    </tr>\n",
       "    <tr>\n",
       "      <th>27</th>\n",
       "      <td>light intensity drizzle rain</td>\n",
       "      <td>0.200722</td>\n",
       "    </tr>\n",
       "    <tr>\n",
       "      <th>28</th>\n",
       "      <td>drizzle</td>\n",
       "      <td>0.214065</td>\n",
       "    </tr>\n",
       "    <tr>\n",
       "      <th>29</th>\n",
       "      <td>light shower snow</td>\n",
       "      <td>0.133333</td>\n",
       "    </tr>\n",
       "    <tr>\n",
       "      <th>30</th>\n",
       "      <td>proximity thunderstorm with rain</td>\n",
       "      <td>0.227330</td>\n",
       "    </tr>\n",
       "    <tr>\n",
       "      <th>31</th>\n",
       "      <td>light snow</td>\n",
       "      <td>0.094121</td>\n",
       "    </tr>\n",
       "    <tr>\n",
       "      <th>32</th>\n",
       "      <td>shower rain</td>\n",
       "      <td>0.212529</td>\n",
       "    </tr>\n",
       "  </tbody>\n",
       "</table>\n",
       "</div>"
      ],
      "text/plain": [
       "                           condition  polarity\n",
       "0       thunderstorm with heavy rain  0.131685\n",
       "1             thunderstorm with rain  0.074965\n",
       "2                      broken clouds  0.129591\n",
       "3             proximity thunderstorm  0.131484\n",
       "4                         heavy snow  0.061213\n",
       "5                   scattered clouds  0.129591\n",
       "6                      moderate rain  0.146446\n",
       "7            light intensity drizzle  0.190634\n",
       "8                       shower sleet  0.190625\n",
       "9                         light rain  0.128847\n",
       "10                   overcast clouds  0.128847\n",
       "11                              snow  0.061213\n",
       "12                      thunderstorm  0.176112\n",
       "13                        few clouds  0.128847\n",
       "14                      Sky is Clear  0.185191\n",
       "15             proximity shower rain  0.203549\n",
       "16                      sky is clear  0.127754\n",
       "17      thunderstorm with light rain  0.134657\n",
       "18              heavy intensity rain  0.154603\n",
       "19                              haze  0.134657\n",
       "20                  rain and drizzle  0.190625\n",
       "21                               fog  0.177289\n",
       "22  heavy intensity rain and drizzle  0.190625\n",
       "23                              mist  0.132273\n",
       "24           heavy intensity drizzle  0.190625\n",
       "25       light intensity shower rain  0.190133\n",
       "26               light rain and snow  0.220952\n",
       "27      light intensity drizzle rain  0.200722\n",
       "28                           drizzle  0.214065\n",
       "29                 light shower snow  0.133333\n",
       "30  proximity thunderstorm with rain  0.227330\n",
       "31                        light snow  0.094121\n",
       "32                       shower rain  0.212529"
      ]
     },
     "execution_count": 91,
     "metadata": {},
     "output_type": "execute_result"
    }
   ],
   "source": [
    "cond_pd"
   ]
  },
  {
   "cell_type": "code",
   "execution_count": 93,
   "metadata": {
    "collapsed": false
   },
   "outputs": [
    {
     "data": {
      "image/png": "[encoded data removed]",
      "text/plain": [
       "<matplotlib.figure.Figure at 0x7f9a80031c10>"
      ]
     },
     "metadata": {},
     "output_type": "display_data"
    }
   ],
   "source": [
    "cond_pd.plot.bar(x='condition');"
   ]
  }
 ],
 "metadata": {
  "kernelspec": {
   "display_name": "Python 2",
   "language": "python",
   "name": "python2"
  },
  "language_info": {
   "codemirror_mode": {
    "name": "ipython",
    "version": 2
   },
   "file_extension": ".py",
   "mimetype": "text/x-python",
   "name": "python",
   "nbconvert_exporter": "python",
   "pygments_lexer": "ipython2",
   "version": "2.7.12"
  }
 },
 "nbformat": 4,
 "nbformat_minor": 0
}
